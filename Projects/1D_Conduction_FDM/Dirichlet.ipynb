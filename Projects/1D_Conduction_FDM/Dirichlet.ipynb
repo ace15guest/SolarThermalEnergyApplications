{
 "cells": [
  {
   "cell_type": "markdown",
   "source": [
    "Starting with the Field Equation\n",
    "\\begin{center}\n",
    "$\\frac{d}{dx}[K(x)A(x)\\frac{dT(x)}{dx}]+P(x)T+Q(x)$\n",
    "\\end{center}\n",
    "with boundary conditions\n",
    "\\begin{center}\n",
    "$T(x_0)=T_0 = 100^{\\circ}C$\\\\\n",
    "$T(x_L)=T_L = 10^{\\circ}C$\n",
    "\\end{center}\n",
    "We will assume the conductivity to be arbitrary but constant with x, and A(x) to be 1. We will also assume P(x) = Q(x) = 0"
   ],
   "metadata": {
    "collapsed": false
   }
  },
  {
   "cell_type": "code",
   "execution_count": 146,
   "outputs": [],
   "source": [
    "# Setting BC's\n",
    "T_0 = 100\n",
    "T_F = 10\n",
    "# setting conductivity to a random (physically realisable) value\n",
    "k = .3"
   ],
   "metadata": {
    "collapsed": false
   }
  },
  {
   "cell_type": "markdown",
   "source": [
    "Next mu can decide our geometry to be a rod with\n",
    "    \\begin{center}\n",
    "        $0 \\leq x \\leq \\ell$\n",
    "    \\end{center}\n",
    "Where will set\n",
    "    \\begin{center}\n",
    "        \\ell=1\n",
    "    \\end{center}"
   ],
   "metadata": {
    "collapsed": false
   }
  },
  {
   "cell_type": "code",
   "execution_count": 147,
   "outputs": [],
   "source": [
    "# Length of the rod\n",
    "length=10"
   ],
   "metadata": {
    "collapsed": false
   }
  },
  {
   "cell_type": "markdown",
   "source": [
    "We need to set the number of nodes. The more nodes we have the more accurate our solution will be"
   ],
   "metadata": {
    "collapsed": false
   }
  },
  {
   "cell_type": "code",
   "execution_count": 148,
   "outputs": [],
   "source": [
    "# Number of Nodes\n",
    "N = 4"
   ],
   "metadata": {
    "collapsed": false
   }
  },
  {
   "cell_type": "markdown",
   "source": [
    "Let's briefly review what we did in class so we can generate our matrices and solve. We will not drop P or Q to keep generality in our derivation.\n",
    "With the variational principle we know that\n",
    "\\begin{center}\n",
    "I = \\int_{x_0}^{x_L} [\\frac{1}{2}K(\\frac{dT(x)}{dx})^{2}-\\frac{1}{2}PT(x)^{2}-QT(x)]dx\n",
    "\\end{center}\n",
    "We want to find T(x) so $\\delta I = 0$\n",
    "We know between each element we want linear variation between $x_{i}$ and $x_{j}$\n",
    "\n",
    "<center><img src=\"TemperatureApproximation.png\"/></center>\n",
    "\n",
    "So the temperature between elements is\n",
    "\\begin{center}\n",
    "$T(x)_{i \\shortrightarrow{} j} = N_{i}(x)T_{i}+N_{j}(x)T_{j}$\n",
    "\\end{center}\n",
    "We know\n",
    "    \\begin{center}\n",
    "        $N_{i}(x) = 1 - \\frac{x}{\\ell_{i}}$ \\hspace{15mm} $\\frac{dN_{i}}{dx} = -\\frac{x}{\\ell_{i}}$ \\\\\n",
    "    \\end{center}\n",
    "    \\begin{center}\n",
    "        $N_{j}(x) = \\frac{x}{\\ell_{i}}$ \\hspace{15mm} $\\frac{dN_{j}}{dx} = \\frac{x}{\\ell_{i}}$\n",
    "    \\end{center}"
   ],
   "metadata": {
    "collapsed": false
   }
  },
  {
   "cell_type": "markdown",
   "source": [
    "So we subsituting $T(x)_{i \\shortrightarrow{} j}$ into our functional\n",
    "    \\begin{center}\n",
    "    $T(x)^{2}_{i \\shortrightarrow{} j} = N_{i}(x)^{2}T_{i}^{2}+2N_{i}(x)T_{i}N_{j}(x)T_{j}(x)+N_{j}^{2}(x)T_{j}^{2}$ \\\\\n",
    "    \\end{center}\n",
    "    \\begin{center}\n",
    "    $\\frac{dT}{dx} = \\frac{dN_{i}}{dx}T_{i} + \\frac{dN_{j}}{dx}T_{j}$\n",
    "    \\end{center}\n",
    "    \\begin{center}\n",
    "    $(\\frac{dT}{dx})^{2} = (\\frac{dN_{i}}{dx})^{2}T_{i}^{2} + 2\\frac{dN_{i}}{dx}T_{i}\\frac{dN_{j}}{dx}T_{j}  + (\\frac{dN_{j}}{dx})^{2}T_{j}^{2}$\n",
    "    \\end{center}\n",
    "    \\begin{center}\n",
    "    $I = \\int_{x_0}^{x_L} [\\frac{1}{2}K((\\frac{dN_{i}}{dx})^{2}T_{i}^{2} + 2\\frac{dN_{i}}{dx}T_{i}\\frac{dN_{j}}{dx}T_{j}  + (\\frac{dN_{j}}{dx})^{2}T_{j}^{2})-\\frac{1}{2}P[N_{i}(x)^{2}T_{i}^{2}+2N_{i}(x)T_{i}N_{j}(x)T_{j}(x)+N_{j}^{2}(x)T_{j}^{2}]-Q(N_{i}(x)T_{i}+N_{j}(x)T_{j})]dx\n",
    "    \\end{center}"
   ],
   "metadata": {
    "collapsed": false
   }
  },
  {
   "cell_type": "markdown",
   "source": [
    "For the e'th element\n",
    "    \\begin{center}\n",
    "        $\\delta I^{e} = \\frac{dI_{e}}{dT_{i}}\\delta T_{i} + \\frac{dI_{e}}{dT_{j}}\\delta T_{j}$\n",
    "    \\end{center}\n",
    "\n",
    "So\n",
    "    \\begin{center}\n",
    "        $\\delta I^{e} = \\int_{x_{i}}^{x_j}\n",
    "        \\left(\n",
    "        \\[\n",
    "        \\left[\n",
    "        k(\\frac{dN_{i}}{dx})^{2}T_{i} + k\\frac{dN_{i}}{dx}\\frac{dN_{j}}{dx}T_{j}\n",
    "        \\right]\n",
    "        \\]\n",
    "        + [-PN_{i}^{2}T_{i}-PN_{i}N_{j}T_{j}]-Q[N_{i}]\n",
    "        \\right)dx\\delta T_{i}$\n",
    "    \\end{center}\n",
    "    \\begin{center}\n",
    "        $+\n",
    "        \\left(\n",
    "        \\[\n",
    "        \\left[\n",
    "        k(\\frac{k\\frac{dN_{i}}{dx}\\frac{dN_{j}}{dx}T_{i}+dN_{j}}{dx})^{2}T_{j}\n",
    "        \\right]\n",
    "        \\]\n",
    "        + [-PN_{i}N_{j}T_{i}-PN_{j}^{2}T_{j}]-Q[N_{j}]\n",
    "        \\right)dx\\delta T_{j}$\n",
    "    \\end{center}"
   ],
   "metadata": {
    "collapsed": false
   }
  },
  {
   "cell_type": "markdown",
   "source": [
    "Now lets turn this equation into matrix form\n",
    "    $ \\delta I^{e} =\n",
    "        \\begin{Bmatrix}\\delta T_{i} & \\delta T_{j}\\end{Bmatrix}\n",
    "        \\begin{bmatrix}\n",
    "        \\begin{bmatrix}\n",
    "            \\int_{x_{i}}^{x_j} \\left(k\\left(\\frac{dN_{i}}{dx}\\right)^{2} -PN_{i}^{2}\\right)dx & \\int_{x_{i}}^{x_j} \\left(k\\frac{dN_{i}}{dx}\\frac{dN_{j}}{dx} - PN_{i}N_{j}\\right)dx  \\\\\n",
    "            \\int_{x_{i}}^{x_j} \\left(k\\frac{dN_{i}}{dx}\\frac{dN_{j}}{dx} - PN_{i}N_{j}\\right) & \\int_{x_{i}}^{x_j} \\left(k\\left(\\frac{dN_{j}}{dx}\\right)^{2} -PN_{j}^{2}\\right)dx\n",
    "        \\end{bmatrix}\n",
    "        \\begin{Bmatrix}\n",
    "            T_{i} \\\\\n",
    "            T_{j}\n",
    "        \\end{Bmatrix} -\n",
    "        \\begin{Bmatrix}\n",
    "            \\int_{x_{i}}^{x_j}(QN_{i}) dx\\\\\n",
    "            \\int_{x_{i}}^{x_j}(QN_{j}) dx\n",
    "        \\end{Bmatrix}\n",
    "        \\end{bmatrix}\n",
    "        =\n",
    "        \\begin{Bmatrix}\\delta T_{i} & \\delta T_{j}\\end{Bmatrix}\n",
    "        \\begin{bmatrix}\n",
    "        \\begin{bmatrix}\n",
    "            E_{11} & E_{12}  \\\\\n",
    "            E_{21} & E_{22}\n",
    "        \\end{bmatrix}\n",
    "        \\begin{Bmatrix}\n",
    "            T_{i} \\\\\n",
    "            T_{j}\n",
    "        \\end{Bmatrix} -\n",
    "        \\begin{Bmatrix}\n",
    "            R_{1}\\\\\n",
    "            R_{2}\n",
    "        \\end{Bmatrix}\n",
    "        \\end{bmatrix}\n",
    "    $"
   ],
   "metadata": {
    "collapsed": false
   }
  },
  {
   "cell_type": "markdown",
   "source": [
    "The next element would be solved similarly\n",
    "$ \\delta I^{e+1} =\n",
    "        \\begin{Bmatrix}\\delta T_{j} & \\delta T_{k}\\end{Bmatrix}\n",
    "        \\begin{bmatrix}\n",
    "        \\begin{bmatrix}\n",
    "            \\int_{x_{j}}^{x_j} \\left(k\\left(\\frac{dN_{j}}{dx}\\right)^{2} -PN_{j}^{2}\\right)dx & \\int_{x_{j}}^{x_j} \\left(k\\frac{dN_{j}}{dx}\\frac{dN_{k}}{dx} - PN_{j}N_{k}\\right)dx  \\\\\n",
    "            \\int_{x_{j}}^{x_j} \\left(k\\frac{dN_{j}}{dx}\\frac{dN_{k}}{dx} - PN_{j}N_{k}\\right) & \\int_{x_{j}}^{x_j} \\left(k\\left(\\frac{dN_{k}}{dx}\\right)^{2} -PN_{k}^{2}\\right)dx\n",
    "        \\end{bmatrix}\n",
    "        \\begin{Bmatrix}\n",
    "            T_{j} \\\\\n",
    "            T_{k}\n",
    "        \\end{Bmatrix} -\n",
    "        \\begin{Bmatrix}\n",
    "            \\int_{x_{j}}^{x_j}(QN_{j}) dx\\\\\n",
    "            \\int_{x_{j}}^{x_j}(QN_{k}) dx\n",
    "        \\end{Bmatrix}\n",
    "        \\end{bmatrix}\n",
    "        =\n",
    "        \\begin{Bmatrix}\\delta T_{j} & \\delta T_{k}\\end{Bmatrix}\n",
    "        \\begin{bmatrix}\n",
    "        \\begin{bmatrix}\n",
    "            F_{11} & F_{12}  \\\\\n",
    "            F_{21} & F_{22}\n",
    "        \\end{bmatrix}\n",
    "        \\begin{Bmatrix}\n",
    "            T_{j} \\\\\n",
    "            T_{k}\n",
    "        \\end{Bmatrix} -\n",
    "        \\begin{Bmatrix}\n",
    "            S_{1}\\\\\n",
    "            S_{2}\n",
    "        \\end{Bmatrix}\n",
    "        \\end{bmatrix}\n",
    "        $"
   ],
   "metadata": {
    "collapsed": false
   }
  },
  {
   "cell_type": "markdown",
   "source": [
    "We must make the right go to zero\n",
    "\n",
    "$\n",
    "\\begin{center}\n",
    "        \\begin{bmatrix}\n",
    "            E_{11} & E_{12} & 0 \\\\\n",
    "            E_{21} & E_{22}+F_{11} & F_{12} \\\\\n",
    "            0 & F_{21} & F_{22}\n",
    "        \\end{bmatrix}\n",
    "        \\begin{Bmatrix}\n",
    "            T_{i} \\\\\n",
    "            T_{j} \\\\\n",
    "            T_{k}\n",
    "        \\end{Bmatrix} -\n",
    "        \\begin{Bmatrix}\n",
    "            R_{} \\\\\n",
    "            R_{2}+S_{1} \\\\\n",
    "            S_{2}\n",
    "        \\end{Bmatrix}\n",
    "\\end{center} = \\vec{0}\n",
    "$"
   ],
   "metadata": {
    "collapsed": false
   }
  },
  {
   "cell_type": "markdown",
   "source": [
    "So in general\n",
    "$\n",
    "\\begin{center}\n",
    "    \\delta I^{e}+\\delta I^{e+1} + \\delta I^{e+2} + \\hdots =\n",
    "        \\begin{Bmatrix}\n",
    "            T_{i} & T_{j} & T_{k} & T_{l} & \\hdots\n",
    "        \\end{Bmatrix}\n",
    "        \\begin{bmatrix}\n",
    "            \\begin{bmatrix}\n",
    "                E_{11} & E_{12} & 0  & \\hdots &\\hdots\\\\\n",
    "                E_{21} & E_{22}+F_{11} & F_{12} & 0 & \\hdots\\\\\n",
    "                0 & F_{21} & F_{22} + G_{11} & G_{12}  & \\hdots\\\\\n",
    "                0 & 0 & G_{21} & G_{22}+\\hdots & \\hdots \\\\\n",
    "                \\vdots & \\vdots & \\vdots & \\vdots & \\ddots \\\\\n",
    "            \\end{bmatrix}\n",
    "            \\begin{Bmatrix}\n",
    "                T_{i} \\\\\n",
    "                T_{j} \\\\\n",
    "                T_{k} \\\\\n",
    "                T_{l} \\\\\n",
    "                \\vdots\n",
    "            \\end{Bmatrix} -\n",
    "            \\begin{Bmatrix}\n",
    "                R_{1} \\\\\n",
    "                R_{2}+S_{1} \\\\\n",
    "                S_{2}+U_{1} \\\\\n",
    "                U_{2}+\\hdots \\\\\n",
    "                \\vdots\n",
    "            \\end{Bmatrix}\n",
    "        \\end{bmatrix}\n",
    "\\end{center}\n",
    "$\n",
    "$\n",
    "\\begin{center}\n",
    "        \\begin{bmatrix}\n",
    "            E_{11} & E_{12} & 0  & \\hdots &\\hdots\\\\\n",
    "            E_{21} & E_{22}+F_{11} & F_{12} & 0 & \\hdots\\\\\n",
    "            0 & F_{21} & F_{22} + G_{11} & G_{12}  & \\hdots\\\\\n",
    "            0 & 0 & G_{21} & G_{22}+\\hdots & \\hdots \\\\\n",
    "            \\vdots & \\vdots & \\vdots & \\vdots & \\ddots \\\\\n",
    "        \\end{bmatrix}\n",
    "        \\begin{Bmatrix}\n",
    "            T_{i} \\\\\n",
    "            T_{j} \\\\\n",
    "            T_{k} \\\\\n",
    "            T_{l} \\\\\n",
    "            \\vdots\n",
    "        \\end{Bmatrix} -\n",
    "        \\begin{Bmatrix}\n",
    "            R_{1} \\\\\n",
    "            R_{2}+S_{1} \\\\\n",
    "            S_{2}+U_{1} \\\\\n",
    "            U_{2}+\\hdots \\\\\n",
    "            \\vdots\n",
    "        \\end{Bmatrix}\n",
    "\\end{center} = \\vec{0}\n",
    "$\n",
    "Now we can build our matrices"
   ],
   "metadata": {
    "collapsed": false
   }
  },
  {
   "cell_type": "code",
   "execution_count": 149,
   "outputs": [],
   "source": [
    "#Use these packages to build the diagonal matrix\n",
    "from scipy.sparse import diags\n",
    "\n"
   ],
   "metadata": {
    "collapsed": false
   }
  },
  {
   "cell_type": "markdown",
   "source": [
    "$N_j$"
   ],
   "metadata": {
    "collapsed": false
   }
  },
  {
   "cell_type": "code",
   "execution_count": 150,
   "outputs": [],
   "source": [
    "def n_j(x):\n",
    "    return x/length\n"
   ],
   "metadata": {
    "collapsed": false
   }
  },
  {
   "cell_type": "markdown",
   "source": [
    "$N_i$"
   ],
   "metadata": {
    "collapsed": false
   }
  },
  {
   "cell_type": "code",
   "execution_count": 151,
   "outputs": [],
   "source": [
    "def n_i(x):\n",
    "    return 1-x/length"
   ],
   "metadata": {
    "collapsed": false
   }
  },
  {
   "cell_type": "markdown",
   "source": [
    "$\\frac{dN_{i}}{dx}$"
   ],
   "metadata": {
    "collapsed": false
   },
   "outputs": [
    {
     "ename": "SyntaxError",
     "evalue": "invalid syntax (889198405.py, line 1)",
     "output_type": "error",
     "traceback": [
      "\u001B[1;36m  Cell \u001B[1;32mIn [1], line 1\u001B[1;36m\u001B[0m\n\u001B[1;33m    $\\frac{dN_{i}}{dx}$\u001B[0m\n\u001B[1;37m    ^\u001B[0m\n\u001B[1;31mSyntaxError\u001B[0m\u001B[1;31m:\u001B[0m invalid syntax\n"
     ]
    }
   ],
   "execution_count": 1
  },
  {
   "cell_type": "code",
   "execution_count": 152,
   "outputs": [],
   "source": [
    "def dni_dx(x):\n",
    "    return (-1/length)"
   ],
   "metadata": {
    "collapsed": false
   }
  },
  {
   "cell_type": "markdown",
   "source": [
    "$\\frac{dN_{j}}{dx}$\n"
   ],
   "metadata": {
    "collapsed": false
   }
  },
  {
   "cell_type": "code",
   "execution_count": 153,
   "outputs": [],
   "source": [
    "# dN_j/dx\n",
    "def dnj_dx(x):\n",
    "    return 1/length"
   ],
   "metadata": {
    "collapsed": false
   }
  },
  {
   "cell_type": "markdown",
   "source": [
    "$\\left(\\frac{dN_{i}}{dx}\\right)^{2}$\n"
   ],
   "metadata": {
    "collapsed": false
   }
  },
  {
   "cell_type": "code",
   "execution_count": 154,
   "outputs": [],
   "source": [
    "def dni_dx2(x):\n",
    "    return dni_dx(x)*dni_dx(x)"
   ],
   "metadata": {
    "collapsed": false
   }
  },
  {
   "cell_type": "markdown",
   "source": [
    "$\\left( \\frac{dN_{j}}{dx}\\right)^{2}$\n"
   ],
   "metadata": {
    "collapsed": false
   }
  },
  {
   "cell_type": "code",
   "execution_count": 155,
   "outputs": [],
   "source": [
    "def dnj_dx2(x):\n",
    "    return dni_dx(x)*dni_dx(x)"
   ],
   "metadata": {
    "collapsed": false
   }
  },
  {
   "cell_type": "markdown",
   "source": [
    "P(x)"
   ],
   "metadata": {
    "collapsed": false
   }
  },
  {
   "cell_type": "code",
   "execution_count": 156,
   "outputs": [],
   "source": [
    "# Convenvtion term\n",
    "def P(x):\n",
    "    return 20"
   ],
   "metadata": {
    "collapsed": false
   }
  },
  {
   "cell_type": "markdown",
   "source": [
    "Q(x)"
   ],
   "metadata": {
    "collapsed": false
   }
  },
  {
   "cell_type": "code",
   "execution_count": 157,
   "outputs": [],
   "source": [
    "# Internal heat generation\n",
    "def Q(x):\n",
    "    return 10000"
   ],
   "metadata": {
    "collapsed": false
   }
  },
  {
   "cell_type": "markdown",
   "source": [
    "$PN_{i}^2$"
   ],
   "metadata": {
    "collapsed": false
   }
  },
  {
   "cell_type": "code",
   "execution_count": 158,
   "outputs": [],
   "source": [
    "def pn_i2(x):\n",
    "    return P(x)*n_i(x)*n_i(x)"
   ],
   "metadata": {
    "collapsed": false
   }
  },
  {
   "cell_type": "markdown",
   "source": [
    "$PN_{j}^2$"
   ],
   "metadata": {
    "collapsed": false
   }
  },
  {
   "cell_type": "code",
   "execution_count": 159,
   "outputs": [],
   "source": [
    "def pn_j2(x):\n",
    "    return P(x)*n_j(x)*n_j(x)"
   ],
   "metadata": {
    "collapsed": false
   }
  },
  {
   "cell_type": "markdown",
   "source": [
    "$\\frac{dN_{i}}{dx}\\frac{dN_{j}}{dx}$\n"
   ],
   "metadata": {
    "collapsed": false
   }
  },
  {
   "cell_type": "code",
   "execution_count": 160,
   "outputs": [],
   "source": [
    "def dn_idn_j_dx(x):\n",
    "    return dni_dx(x)*dnj_dx(x)"
   ],
   "metadata": {
    "collapsed": false
   }
  },
  {
   "cell_type": "markdown",
   "source": [
    "$PN_{i}N_{j}$"
   ],
   "metadata": {
    "collapsed": false
   }
  },
  {
   "cell_type": "code",
   "execution_count": 161,
   "outputs": [],
   "source": [
    "def pn_in_j(x):\n",
    "    return P(x)*n_i(x)*n_j(x)"
   ],
   "metadata": {
    "collapsed": false
   }
  },
  {
   "cell_type": "code",
   "execution_count": 162,
   "outputs": [
    {
     "data": {
      "text/plain": "[<matplotlib.lines.Line2D at 0x7fb81d4c0610>]"
     },
     "execution_count": 162,
     "metadata": {},
     "output_type": "execute_result"
    },
    {
     "data": {
      "text/plain": "<Figure size 640x480 with 1 Axes>",
      "image/png": "[encoded data removed]"
     },
     "metadata": {},
     "output_type": "display_data"
    }
   ],
   "source": [
    "from scipy.integrate import quad\n",
    "import numpy as np\n",
    "import matplotlib.pyplot as plt\n",
    "def dirichlet(n, bc1, bc2, l):\n",
    "    \"\"\"\n",
    "\n",
    "    :param n: Number of Nodes\n",
    "    :param bc1: Boundary condition at x = 0\n",
    "    :param bc2: Boundary Condition at x = L\n",
    "    :param l: Length of cross-section\n",
    "    :return: A matrix as np array, u as np array and x as np arraay\n",
    "    \"\"\"\n",
    "    import numpy as np\n",
    "    x = np.linspace(0.0, l, n)\n",
    "\n",
    "    A = np.zeros([n,n])\n",
    "    b = np.zeros(n)\n",
    "    start = 0\n",
    "    step = l/n\n",
    "    for i in range(0, n):\n",
    "        end = start + step\n",
    "\n",
    "        if i == 0:\n",
    "            # Diagonal\n",
    "            A[i, i] = 1 #k*quad(dni_dx2, start, end)[0] - quad(pn_i2, start, end)[0]\n",
    "            # Upper Diagonal\n",
    "            A[i, i+1] = 0 #k*quad(dn_idn_j_dx, start, end)[0] - quad(pn_in_j, start, end)[0]\n",
    "            b[i] = bc1\n",
    "        elif i < n-1:\n",
    "            # Lower Diagonal\n",
    "            A[i, i-1] = k*quad(dn_idn_j_dx, start, end)[0] - quad(pn_in_j, start, end)[0]\n",
    "            # Diagonal (Int{xi}^xJ + Int{xj}^xk)\n",
    "            A[i, i] = (k*quad(dnj_dx2, start, end)[0] - quad(pn_j2, start, end)[0]) + (k*quad(dnj_dx2, end, end+step)[0] - quad(pn_j2, start, end+step)[0])\n",
    "            # Upper Diagonal\n",
    "            A[i ,i +1] = k*quad(dn_idn_j_dx, end, end+step)[0] - quad(pn_in_j, end, end+step)[0]\n",
    "        else:\n",
    "            A[i, i] =  k*quad(dnj_dx2, end, end+step)[0] - quad(pn_j2, start, end)[0]\n",
    "            A[i, i-1] = k*quad(dn_idn_j_dx, end, end+step)[0] - quad(pn_in_j, start, end)[0]\n",
    "            # b[i] = b\n",
    "        start+=step\n",
    "    u = np.linalg.solve(A, b)\n",
    "    return A, u, x\n",
    "_, u, x = dirichlet(1000, T_0, T_F, 1)\n",
    "\n",
    "plt.plot(x, u)"
   ],
   "metadata": {
    "collapsed": false
   }
  }
 ],
 "metadata": {
  "kernelspec": {
   "display_name": "Python 3",
   "language": "python",
   "name": "python3"
  },
  "language_info": {
   "codemirror_mode": {
    "name": "ipython",
    "version": 2
   },
   "file_extension": ".py",
   "mimetype": "text/x-python",
   "name": "python",
   "nbconvert_exporter": "python",
   "pygments_lexer": "ipython2",
   "version": "2.7.6"
  }
 },
 "nbformat": 4,
 "nbformat_minor": 0
}
